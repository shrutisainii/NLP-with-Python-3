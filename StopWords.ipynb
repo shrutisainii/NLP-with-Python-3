{
 "cells": [
  {
   "cell_type": "markdown",
   "metadata": {},
   "source": [
    "StopWords .\n",
    "What are StopWords ?\n",
    "a , the ,an ... these type of words don't add any meaning to your text.We can just remove them. For Data Analysis concern they are useless.If we have lot of lot of articles removing stop words saves lot of lot of our processing time ."
   ]
  },
  {
   "cell_type": "markdown",
   "metadata": {},
   "source": []
  },
  {
   "cell_type": "code",
   "execution_count": 5,
   "metadata": {},
   "outputs": [],
   "source": [
    "from nltk.corpus import stopwords\n",
    "from nltk.tokenize import word_tokenize"
   ]
  },
  {
   "cell_type": "code",
   "execution_count": 6,
   "metadata": {},
   "outputs": [],
   "source": [
    "example_sentence=\"This is an example showing off stop words filteration.\""
   ]
  },
  {
   "cell_type": "code",
   "execution_count": 7,
   "metadata": {},
   "outputs": [],
   "source": [
    "stop_words=set(stopwords.words(\"english\"))"
   ]
  },
  {
   "cell_type": "code",
   "execution_count": 9,
   "metadata": {
    "scrolled": true
   },
   "outputs": [
    {
     "name": "stdout",
     "output_type": "stream",
     "text": [
      "{'in', 'couldn', \"haven't\", 'my', 'once', 'mustn', 'until', 'by', 'than', 'hers', 'you', 'while', 'doing', 'below', \"wasn't\", 'a', 'shouldn', 'these', 'this', 'about', 'over', 'himself', 'most', 'we', 'haven', 'am', 'hasn', 'their', 'so', 've', 'will', 'between', 'from', 'be', 'she', \"hadn't\", 'why', 'don', 'were', 'during', 'for', 'which', 'because', 'what', 'ourselves', 'nor', 'whom', 'both', \"shan't\", 'against', 'him', 'to', 'hadn', 'through', 'at', \"that'll\", 'does', 'the', 'own', 'few', 'wasn', 'after', 'an', 'myself', 'her', 'd', 'all', 'and', 'doesn', \"you're\", 'down', \"needn't\", \"she's\", \"you'd\", 'did', 're', 'your', 'with', 'no', 'when', 'its', 'having', 'here', 'that', \"you've\", \"don't\", \"mustn't\", 'weren', 't', 'his', 'i', \"didn't\", 'but', 'won', 'being', 'our', 'of', 'o', 'was', 'same', \"mightn't\", \"doesn't\", \"wouldn't\", 'or', 'shan', 'above', 'had', \"weren't\", 'other', 'out', 'aren', 'can', 'is', 'been', 'off', 'isn', 'itself', 'should', 'wouldn', \"aren't\", 'y', 'up', 'theirs', \"shouldn't\", 'any', 'needn', 'those', 'into', 'yourselves', 'such', 'm', \"should've\", 'only', \"you'll\", 'under', 'each', 'now', 'again', 'has', \"it's\", 'as', 'before', 'they', 'if', \"couldn't\", \"won't\", 'who', 'ours', 'further', 'some', 'very', 'have', 'herself', 'then', 'just', 'll', 'there', 'where', 'more', 'do', 'ain', \"hasn't\", 'themselves', 'not', 'on', 'how', 's', 'are', 'yourself', 'didn', 'it', 'them', 'mightn', 'yours', 'he', 'too', \"isn't\", 'ma', 'me'}\n"
     ]
    }
   ],
   "source": [
    "print(stop_words)"
   ]
  },
  {
   "cell_type": "code",
   "execution_count": 10,
   "metadata": {},
   "outputs": [],
   "source": [
    "words= word_tokenize(example_sentence)"
   ]
  },
  {
   "cell_type": "code",
   "execution_count": 11,
   "metadata": {},
   "outputs": [
    {
     "data": {
      "text/plain": [
       "['This',\n",
       " 'is',\n",
       " 'an',\n",
       " 'example',\n",
       " 'showing',\n",
       " 'off',\n",
       " 'stop',\n",
       " 'words',\n",
       " 'filteration',\n",
       " '.']"
      ]
     },
     "execution_count": 11,
     "metadata": {},
     "output_type": "execute_result"
    }
   ],
   "source": [
    "words"
   ]
  },
  {
   "cell_type": "code",
   "execution_count": 13,
   "metadata": {},
   "outputs": [],
   "source": [
    "filtered_sentence=[]"
   ]
  },
  {
   "cell_type": "code",
   "execution_count": 14,
   "metadata": {},
   "outputs": [],
   "source": [
    "for w in words:\n",
    "    if w not in stop_words:\n",
    "        filtered_sentence.append(w)"
   ]
  },
  {
   "cell_type": "code",
   "execution_count": 15,
   "metadata": {},
   "outputs": [
    {
     "name": "stdout",
     "output_type": "stream",
     "text": [
      "['This', 'example', 'showing', 'stop', 'words', 'filteration', '.']\n"
     ]
    }
   ],
   "source": [
    "print(filtered_sentence)"
   ]
  },
  {
   "cell_type": "code",
   "execution_count": 16,
   "metadata": {},
   "outputs": [],
   "source": [
    "#one more way to do this "
   ]
  },
  {
   "cell_type": "code",
   "execution_count": 19,
   "metadata": {},
   "outputs": [],
   "source": [
    "filter_sent=[w for w in words if not w in stop_words]\n"
   ]
  },
  {
   "cell_type": "code",
   "execution_count": 20,
   "metadata": {},
   "outputs": [
    {
     "name": "stdout",
     "output_type": "stream",
     "text": [
      "['This', 'example', 'showing', 'stop', 'words', 'filteration', '.']\n"
     ]
    }
   ],
   "source": [
    "print(filter_sent)"
   ]
  },
  {
   "cell_type": "code",
   "execution_count": null,
   "metadata": {},
   "outputs": [],
   "source": []
  }
 ],
 "metadata": {
  "kernelspec": {
   "display_name": "Python 3",
   "language": "python",
   "name": "python3"
  },
  "language_info": {
   "codemirror_mode": {
    "name": "ipython",
    "version": 3
   },
   "file_extension": ".py",
   "mimetype": "text/x-python",
   "name": "python",
   "nbconvert_exporter": "python",
   "pygments_lexer": "ipython3",
   "version": "3.6.4"
  }
 },
 "nbformat": 4,
 "nbformat_minor": 2
}
